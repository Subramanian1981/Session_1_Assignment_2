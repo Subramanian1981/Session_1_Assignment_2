{
 "cells": [
  {
   "cell_type": "code",
   "execution_count": 2,
   "metadata": {},
   "outputs": [
    {
     "name": "stdout",
     "output_type": "stream",
     "text": [
      "Enter No of elements to be stored in the list for performing Arithmetic operations :  3\n",
      "\n",
      "Enter element no :  1 213\n",
      "\n",
      "Enter element no :  2 345\n",
      "\n",
      "Enter element no :  3 213\n",
      "\n",
      "The Given list of Words is : [213, 345, 213]\n",
      "\n",
      "The summation is : 771\n"
     ]
    }
   ],
   "source": [
    "# 1.1 Write a Python Program to implement your own myreduce() function which works exactly like Python's built-in \n",
    "#function reduce()\n",
    "\n",
    "#Reduce function always return one value..\n",
    "\n",
    "def myreduce_func(List_Values):\n",
    "    total=0\n",
    "    for items in List_Values:\n",
    "        total = total+int(items)\n",
    "    return total\n",
    "\n",
    "List_Values=[]\n",
    "No_Of_Elements = input(\"Enter No of elements to be stored in the list for performing Arithmetic operations : \"+\" \")\n",
    "for num in range(0, int(No_Of_Elements)):\n",
    "    Input_elements = input(\"\\nEnter element no : \"+ \" \" + str(num +1)  + \" \")\n",
    "    List_Values.append(int(Input_elements))\n",
    "print(\"\\nThe Given list of Words is : \"+ str(List_Values))\n",
    "total=myreduce_func(List_Values)\n",
    "print (\"\\nThe summation is : \"+ str(total)) \n"
   ]
  },
  {
   "cell_type": "code",
   "execution_count": 8,
   "metadata": {},
   "outputs": [
    {
     "name": "stdout",
     "output_type": "stream",
     "text": [
      "Enter No of elements to be stored in the list for performing Arithmetic operations :  5\n",
      "\n",
      "Enter element no :  1 1\n",
      "\n",
      "Enter element no :  2 2\n",
      "\n",
      "Enter element no :  3 3\n",
      "\n",
      "Enter element no :  4 4\n",
      "\n",
      "Enter element no :  5 5\n",
      "\n",
      "The Given list of Words is : [1, 2, 3, 4, 5]\n",
      "\n",
      "The Odd numbers are : [1, 3, 5]\n"
     ]
    }
   ],
   "source": [
    "# 1.2 Write a Python program to implement your own myfilter() function which works exactly like\n",
    "# Python's built-in function filter()\n",
    "\n",
    "def myfilter_func(List_Values):\n",
    "    List_Odd=[]\n",
    "    total=0\n",
    "    for items in List_Values:\n",
    "        if items % 2 != 0:\n",
    "            List_Odd.append(items)\n",
    "    return List_Odd\n",
    "\n",
    "List_Values=[]\n",
    "No_Of_Elements = input(\"Enter No of elements to be stored in the list for performing Arithmetic operations : \"+\" \")\n",
    "for num in range(0, int(No_Of_Elements)):\n",
    "    Input_elements = input(\"\\nEnter element no : \"+ \" \" + str(num +1)  + \" \")\n",
    "    List_Values.append(int(Input_elements))\n",
    "print(\"\\nThe Given list of Words is : \"+ str(List_Values))\n",
    "total=myfilter_func(List_Values)\n",
    "print (\"\\nThe Odd numbers are : \"+ str(total)) "
   ]
  },
  {
   "cell_type": "code",
   "execution_count": 4,
   "metadata": {},
   "outputs": [
    {
     "name": "stdout",
     "output_type": "stream",
     "text": [
      "Enter the word to be stored in the list : ACADGILD\n",
      "\n",
      "Output is :  ['A', 'C', 'A', 'D', 'G', 'I', 'L', 'D'] \n",
      "\n",
      "------------------------------------------------------------------------------------------------------------------------\n",
      "\n",
      " Enter no of range to be printed : 5\n",
      "\n",
      " Enter the word to be stored in the list : X,Y,Z\n",
      "\n",
      " Output is :  ['X', 'XX', 'XXX', 'XXXX', 'Y', 'YY', 'YYY', 'YYYY', 'Z', 'ZZ', 'ZZZ', 'ZZZZ'] \n",
      "\n",
      " Output is :  ['X', 'Y', 'Z', 'XX', 'YY', 'ZZ', 'XXX', 'YYY', 'ZZZ', 'XXXX', 'YYYY', 'ZZZZ'] \n",
      "\n",
      "------------------------------------------------------------------------------------------------------------------------\n",
      "\n",
      " Enter the word to be stored in the list : 1,2,3\n",
      "\n",
      " Enter no of range to be printed : 4\n",
      "\n",
      " Result of the List is :  [[2], [3], [4], [3], [4], [5], [4], [5], [6]] \n",
      "\n",
      "------------------------------------------------------------------------------------------------------------------------\n",
      "\n",
      " Enter the word to be stored in the list : 1,2,3,4\n",
      "\n",
      " Enter no of range to be printed : 5\n",
      "\n",
      " Result of the List is :  [[2, 3, 4, 5], [3, 4, 5, 6], [4, 5, 6, 7], [5, 6, 7, 8]] \n",
      "\n",
      "------------------------------------------------------------------------------------------------------------------------\n",
      "\n",
      "Enter the word to be stored in the list : 1,2,3\n",
      "\n",
      "Enter no of range to be printed : 4\n",
      "\n",
      "Result of the List is :  ['(1,1)', '(1,2)', '(1,3)', '(2,1)', '(2,2)', '(2,3)', '(3,1)', '(3,2)', '(3,3)']\n"
     ]
    }
   ],
   "source": [
    "# Task 1 \n",
    "#Question 2.\n",
    "#Implement List comprehensions to produce the following lists.\n",
    "#Write List comprehensions to produce the following Lists\n",
    "#['A', 'C', 'A', 'D', 'G', 'I', ’L’, ‘ D’]\n",
    "#['x', 'xx', 'xxx', 'xxxx', 'y', 'yy', 'yyy', 'yyyy', 'z', 'zz', 'zzz', 'zzzz']\n",
    "#['x', 'y', 'z', 'xx', 'yy', 'zz', 'xx', 'yy', 'zz', 'xxxx', 'yyyy', 'zzzz']\n",
    "#[[2], [3], [4], [3], [4], [5], [4], [5], [6]]\n",
    "#[[2, 3, 4, 5], [3, 4, 5, 6], [4, 5, 6, 7], [5, 6, 7, 8]]\n",
    "#[(1, 1), (2, 1), (3, 1), (1, 2), (2, 2), (3, 2), (1, 3), (2, 3), (3, 3)]\n",
    "\n",
    "################ First One #['A', 'C', 'A', 'D', 'G', 'I', ’L’, ‘ D’]\n",
    "Get_Input = input(\"Enter the word to be stored in the list : \")\n",
    "print(\"\\nOutput is : \" , list([Char.upper() for Char in Get_Input]),'\\n')\n",
    "print('-' *120)\n",
    "##############################################################\n",
    "Num_Range = int(input(\"\\n Enter no of range to be printed : \"))\n",
    "Get_Input = input(\"\\n Enter the word to be stored in the list : \")\n",
    "Get_Input = Get_Input.split(',')\n",
    "print(\"\\n Output is : \", list([str(loop1*loop2) for loop1 in Get_Input for loop2 in range(1,Num_Range)]),'\\n')\n",
    "print(\" Output is : \", list([i*j  for j in range(1,Num_Range) for i in Get_Input]),'\\n')\n",
    "print('-' *120)\n",
    "##############################################################\n",
    "Get_Input = input(\"\\n Enter the word to be stored in the list : \")\n",
    "Get_Input = Get_Input.split(',')\n",
    "Num_Range = int(input(\"\\n Enter no of range to be printed : \"))\n",
    "print(\"\\n Result of the List is : \", list([[int(i)+j]  for j in range(1,Num_Range) for i in Get_Input]),'\\n')\n",
    "print('-' *120)\n",
    "##############################################################\n",
    "Get_Input = input(\"\\n Enter the word to be stored in the list : \")\n",
    "Get_Input = Get_Input.split(',')\n",
    "Num_Range = int(input(\"\\n Enter no of range to be printed : \"))\n",
    "print(\"\\n Result of the List is : \", list([[int(i)+j  for j in range(1,Num_Range)] for i in Get_Input]),'\\n')\n",
    "print('-' *120)\n",
    "##############################################################\n",
    "Get_Input = input(\"\\nEnter the word to be stored in the list : \")\n",
    "Get_Input = Get_Input.split(',')\n",
    "Num_Range = int(input(\"\\nEnter no of range to be printed : \"))\n",
    "print(\"\\nResult of the List is : \", [\"(\"+str(j)+\",\"+str(i)+\")\" for j in range(1,Num_Range) for i in Get_Input])"
   ]
  },
  {
   "cell_type": "code",
   "execution_count": 9,
   "metadata": {},
   "outputs": [
    {
     "name": "stdout",
     "output_type": "stream",
     "text": [
      "Enter the no of words : 5\n",
      "\n",
      "Enter word no :  1  Hyderabd\n",
      "\n",
      "Enter word no :  2  bangalore\n",
      "\n",
      "Enter word no :  3  chennai\n",
      "\n",
      "Enter word no :  4  mysore\n",
      "\n",
      "Enter word no :  5  Goa\n",
      "\n",
      "The Given list of Words is : ['Hyderabd', 'bangalore', 'chennai', 'mysore', 'Goa']\n",
      "\n",
      "The longest word is from the given list is bangalore and length is 9\n"
     ]
    }
   ],
   "source": [
    "# Question 3.\n",
    "# Implement a function longestWord() that takes a list of words and returns the longest one.\n",
    "\n",
    "def longestWord(List_of_Words):\n",
    "    print(\"\\nThe Given list of Words is : \"+ str(List_of_Words))\n",
    "    List_of_Words = ','.join(List_of_Words)\n",
    "    longest_word = max(List_of_Words.split(','), key = len )\n",
    "    print(\"\\nThe longest word is from the given list is \" + longest_word + \" and length is \"+ str(len(longest_word)))\n",
    "       \n",
    "List_of_Words=[]\n",
    "No_Of_words = int(input(\"Enter the no of words : \"))\n",
    "if No_Of_words > 1:\n",
    "    if str(No_Of_words).isdigit():\n",
    "        for num in range(0,int(No_Of_words)):\n",
    "            input_word = input(\"\\nEnter word no : \"+ \" \" + str(num +1)+\"  \")\n",
    "            List_of_Words.append(input_word)        \n",
    "        longestWord(List_of_Words)\n",
    "    else:\n",
    "        print(\"\\nError !! Given input is not a digit\")\n",
    "else:\n",
    "    print(\"Cannot execute program since more than one word is required for comparison..\")"
   ]
  },
  {
   "cell_type": "code",
   "execution_count": 6,
   "metadata": {},
   "outputs": [
    {
     "name": "stdout",
     "output_type": "stream",
     "text": [
      "\n",
      "Enter A Side : 3\n",
      "\n",
      "Enter B Side : 4\n",
      "\n",
      "Enter C Side : 5\n",
      "\n",
      "Inside Child class..\n",
      "Inside Parent class..\n",
      "\n",
      "Semiperimeter of the triangle is : 6.0\n",
      "\n",
      "Area of the triangle is : 6.0\n"
     ]
    }
   ],
   "source": [
    "# 1.1 Write a Python Program(with class concepts) to find the area of the triangle using the below formula.\n",
    "# area = (s*(s-a)*(s-b)*(s-c)) ** 0.5\n",
    "# Function to take the length of the sides of triangle from user should be defined in the parent\n",
    "# class and function to calculate the area should be defined in subclass.\n",
    "\n",
    "class Triangle:\n",
    "    \n",
    "    def __init__(self, A_side, B_side, C_side):\n",
    "        self.A_side = A_side\n",
    "        self.B_side = B_side\n",
    "        self.C_side = C_side\n",
    "        print(\"Inside Parent class..\")\n",
    "    def __str__(self):\n",
    "        return self.A_side + \" \" + self.B_side + \", \" + self.C_side\n",
    "    \n",
    "class Calculate_Area(Triangle):\n",
    "    \n",
    "    def __init__(self, A_side, B_side, C_side):\n",
    "        print(\"\\nInside Child class..\")\n",
    "        super().__init__(A_side, B_side, C_side)\n",
    "   \n",
    "    def Cal_area(self):\n",
    "        \n",
    "        semiperimeter = (self.A_side + self.B_side + self.C_side) / 2\n",
    "        area = (semiperimeter*(semiperimeter-self.A_side)*(semiperimeter-self.B_side)*(semiperimeter-self.C_side)) ** 0.5\n",
    "        print(\"\\nSemiperimeter of the triangle is : \" + str(semiperimeter))\n",
    "        print(\"\\nArea of the triangle is : \" + str(area))\n",
    "\n",
    "x = Calculate_Area(int(input(\"\\nEnter A Side : \")),int(input(\"\\nEnter B Side : \")),int(input(\"\\nEnter C Side : \")))\n",
    "x.Cal_area()\n"
   ]
  },
  {
   "cell_type": "code",
   "execution_count": 12,
   "metadata": {},
   "outputs": [
    {
     "name": "stdout",
     "output_type": "stream",
     "text": [
      "\n",
      "Enter the no of words : 5\n",
      "\n",
      "Enter word no :  1 Chennai\n",
      "\n",
      "Enter word no :  2 Bangalore\n",
      "\n",
      "Enter word no :  3 Hyderabad\n",
      "\n",
      "Enter word no :  4 United States\n",
      "\n",
      "Enter word no :  5 Australia\n",
      "\n",
      "The Given list of Words is : ['Chennai', 'Bangalore', 'Hyderabad', 'United States', 'Australia']\n",
      "\n",
      "Enter the length you need to extract the list of words that are longer than  :  8\n",
      "\n",
      "Words greater than length  8  is :  ['Bangalore', 'Hyderabad', 'United States', 'Australia']\n"
     ]
    }
   ],
   "source": [
    "### Question 1.2 Write a function filter_long_words() that takes a list of words and an integer n and returns the list\n",
    "# of words that are longer than n.\n",
    "\n",
    "def filter_Longer_Words(List_Input,Count):\n",
    "    return list([items for items in List_Input if len(str(items)) > int(Count)])\n",
    "\n",
    "\n",
    "List_of_Words=[]\n",
    "No_Of_Words = input(\"\\nEnter the no of words : \")\n",
    "if No_Of_Words.isdigit(): \n",
    "    for counter in range(0, int(No_Of_Words)):\n",
    "        input_word = input(\"\\nEnter word no : \"+ \" \" + str(counter +1)  + \" \")\n",
    "        List_of_Words.append(input_word)\n",
    "    print(\"\\nThe Given list of Words is : \"+ str(List_of_Words))\n",
    "Length  = int(input(\"\\nEnter the length you need to extract the list of words that are longer than  : \" +\" \"))\n",
    "Result_List = filter_Longer_Words (List_of_Words,Length) \n",
    "print(\"\\nWords greater than length \" , Length,  \" is : \", list(Result_List))"
   ]
  },
  {
   "cell_type": "code",
   "execution_count": 17,
   "metadata": {},
   "outputs": [
    {
     "name": "stdout",
     "output_type": "stream",
     "text": [
      "\n",
      "Enter the no of words : 5\n",
      "\n",
      "Enter word no :  1 Hyderabd\n",
      "\n",
      "Enter word no :  2 Bangalore\n",
      "\n",
      "Enter word no :  3 Trichirapalli\n",
      "\n",
      "Enter word no :  4 Kumbakonam\n",
      "\n",
      "Enter word no :  5 coimbatore\n",
      "\n",
      "The Given list of Words is : ['Hyderabd', 'Bangalore', 'Trichirapalli', 'Kumbakonam', 'coimbatore']\n",
      "\n",
      "The length of the given Words is :  [8, 9, 13, 10, 10]\n"
     ]
    }
   ],
   "source": [
    "#2.1\n",
    "#Write a Python program using function concept that maps list of words into a list of integers\n",
    "#representing the lengths of the corresponding words .\n",
    "#Hint: If a list [ ab,cde,erty] is passed on to the python function output should come as [2,3,4]\n",
    "#Here 2,3 and 4 are the lengths of the words in the list.\n",
    "def Calculate_Length(List_of_Words):\n",
    "    return(len(List_of_Words))\n",
    "\n",
    "List_of_Words=[]\n",
    "No_Of_Words = input(\"\\nEnter the no of words : \")\n",
    "if No_Of_Words.isdigit(): \n",
    "    for counter in range(0, int(No_Of_Words)):\n",
    "        input_word = input(\"\\nEnter word no : \"+ \" \" + str(counter +1)  + \" \")\n",
    "        List_of_Words.append(input_word)\n",
    "    print(\"\\nThe Given list of Words is : \"+ str(List_of_Words))\n",
    "result=map(Calculate_Length,List_of_Words)\n",
    "print(\"\\nThe length of the given Words is : \", list(result))"
   ]
  },
  {
   "cell_type": "code",
   "execution_count": 8,
   "metadata": {},
   "outputs": [
    {
     "name": "stdout",
     "output_type": "stream",
     "text": [
      "\n",
      "Enter the character :A\n",
      "\n",
      "The given character A is Vowel\n"
     ]
    }
   ],
   "source": [
    "## Question 2.2\n",
    "\n",
    "# Write a Python function which takes a character (i.e. a string of length 1) and returns True if it is #a vowel, \n",
    "# False otherwise.\n",
    "\n",
    "# Definition of check_Vowel Function accepts parameter\n",
    "def Check_Vowel(Input_Alphabhet):\n",
    "    Vowel_List = \"AEIOU\"\n",
    "    return Input_Alphabhet.lower() in 'aeiou'\n",
    "    \n",
    "#Accepts user input\n",
    "Input_Alphabhet = input(\"\\nEnter the character :\")\n",
    "\n",
    "#Checking length of value if > 1 stop the program. else call the check vowel alphabet and get the result.\n",
    "if len(Input_Alphabhet) == 1:\n",
    "    Ret_Result = Check_Vowel(Input_Alphabhet)  \n",
    "    \n",
    "    if Ret_Result == True:\n",
    "        \n",
    "        print (\"\\nThe given character \" + Input_Alphabhet + \" is Vowel\")\n",
    " \n",
    "    else:\n",
    "        \n",
    "        print (\"\\nThe given character \" + Input_Alphabhet + \" is not Vowel\")\n",
    "        \n",
    "else:\n",
    "    print (\"\\nEnter alphabet with only one character\")\n",
    "            \n",
    "\n"
   ]
  },
  {
   "cell_type": "code",
   "execution_count": null,
   "metadata": {},
   "outputs": [],
   "source": []
  }
 ],
 "metadata": {
  "kernelspec": {
   "display_name": "Python 3",
   "language": "python",
   "name": "python3"
  },
  "language_info": {
   "codemirror_mode": {
    "name": "ipython",
    "version": 3
   },
   "file_extension": ".py",
   "mimetype": "text/x-python",
   "name": "python",
   "nbconvert_exporter": "python",
   "pygments_lexer": "ipython3",
   "version": "3.7.0"
  }
 },
 "nbformat": 4,
 "nbformat_minor": 2
}
